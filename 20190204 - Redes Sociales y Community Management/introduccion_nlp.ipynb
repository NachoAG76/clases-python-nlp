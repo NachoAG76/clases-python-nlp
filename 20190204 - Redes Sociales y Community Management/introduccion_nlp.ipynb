{
 "cells": [
  {
   "cell_type": "markdown",
   "metadata": {},
   "source": [
    "# Introducción al Procesamiento del Lenguaje Natural enfocado a Redes Sociales\n",
    "**Realizado por: Álvaro Bartolomé del Canto**"
   ]
  },
  {
   "cell_type": "markdown",
   "metadata": {},
   "source": [
    "---\n",
    "## 1. Introducción"
   ]
  },
  {
   "cell_type": "markdown",
   "metadata": {},
   "source": [
    "A lo largo de esta breve presentación se presentarán algunos de los principales aspectos a tener en cuenta a nivel técnico al realizar tareas de Procesamiento del Lenguaje Natural (NLP en inglés). Así se desglosará el flujo de trabajo a seguir, dónde cada una de las principales fases y/o procedimientos se explicarán a nivel técnico junto con las respectivas pruebas"
   ]
  },
  {
   "cell_type": "markdown",
   "metadata": {},
   "source": [
    "Además, se presentará un caso de uso aplicado al marco de las redes sociales, en este caso de Twitter. Este caso de uso incluirá tanto la ingesta como el preprocesamiento de un conjunto de tweets incluyendo posibles aplicaciones basadas en Machine Learning para la creación de modelos."
   ]
  },
  {
   "cell_type": "markdown",
   "metadata": {},
   "source": [
    "---\n",
    "## 2. Preprocesamiento"
   ]
  },
  {
   "cell_type": "markdown",
   "metadata": {},
   "source": [
    "Se comenzará con el preprocesamiento del texto, que consiste en la preparación de los datos. En este caso, dado que los datos de entrada son frases se requerirá de la limpieza de las mismas de modo que dispongamos tan solo de listas de palabras eliminando carácteres \"raros\", vocales con tildes, signos de puntuación, etc. También se comentarán distintas técnicas utilizadas en el preprocesamiento como lo son: *Stemming*, *Lemmatization* o *N-Grams*."
   ]
  },
  {
   "cell_type": "markdown",
   "metadata": {},
   "source": [
    "El preprocesamiento del texto se considera el paso más importante en las prácticas de NLP dado que es esencial y de él depende gran parte del proceso de modelado, clasificación, etc. posterior. Como mencionan Alper Kursat Uysal & Serkan Gunal en su artículo científico \"[*The impact of preprocessing on text classification*](https://www.sciencedirect.com/science/article/pii/S0306457313000964)\", el preprocesamiento es un aspecto clave en el marco del análisis de texto. A lo largo de dicho artículo estudian el impacto del preprocesamiento en cuanto al análisis de texto a distintos niveles aplicando diversas técnicas como: clasficicación, reduccón de la dimensionalidad, etc."
   ]
  },
  {
   "cell_type": "markdown",
   "metadata": {},
   "source": [
    "<div>\n",
    "    <img src=\"https://i.ibb.co/R3TfzrW/pipeline.jpg\">\n",
    "</div>"
   ]
  },
  {
   "cell_type": "code",
   "execution_count": 45,
   "metadata": {},
   "outputs": [],
   "source": [
    "import unidecode\n",
    "import re"
   ]
  },
  {
   "cell_type": "code",
   "execution_count": 133,
   "metadata": {},
   "outputs": [],
   "source": [
    "palabra_ejemplo = '?Murciélago'"
   ]
  },
  {
   "cell_type": "code",
   "execution_count": 134,
   "metadata": {},
   "outputs": [],
   "source": [
    "palabra_ejemplo = palabra_ejemplo.lower()"
   ]
  },
  {
   "cell_type": "code",
   "execution_count": 135,
   "metadata": {},
   "outputs": [
    {
     "data": {
      "text/plain": [
       "'?murciélago'"
      ]
     },
     "execution_count": 135,
     "metadata": {},
     "output_type": "execute_result"
    }
   ],
   "source": [
    "palabra_ejemplo"
   ]
  },
  {
   "cell_type": "code",
   "execution_count": 136,
   "metadata": {},
   "outputs": [],
   "source": [
    "palabra_ejemplo = unidecode.unidecode(palabra_ejemplo)"
   ]
  },
  {
   "cell_type": "code",
   "execution_count": 137,
   "metadata": {},
   "outputs": [
    {
     "data": {
      "text/plain": [
       "'?murcielago'"
      ]
     },
     "execution_count": 137,
     "metadata": {},
     "output_type": "execute_result"
    }
   ],
   "source": [
    "palabra_ejemplo"
   ]
  },
  {
   "cell_type": "code",
   "execution_count": 138,
   "metadata": {},
   "outputs": [],
   "source": [
    "regex = re.compile('[^a-zA-Z]')\n",
    "palabra_ejemplo = regex.sub('', palabra_ejemplo)"
   ]
  },
  {
   "cell_type": "code",
   "execution_count": 139,
   "metadata": {},
   "outputs": [
    {
     "data": {
      "text/plain": [
       "'murcielago'"
      ]
     },
     "execution_count": 139,
     "metadata": {},
     "output_type": "execute_result"
    }
   ],
   "source": [
    "palabra_ejemplo"
   ]
  },
  {
   "cell_type": "markdown",
   "metadata": {},
   "source": [
    "También es importante eliminar las **stopwords**, así conocidas aquellas palabras que son muy frecuentes en el idioma, implicando así que carecen de significado semántico más allá que con el fin de unir elementos de una frase (es decir, mejorar la cohesión). Por tanto, dado que dichas palabras no son útiles, se aplicará un filtrado basado en una colección de palabras calificadas como *stopwords* con el fin de eliminarlas de las frases iniciales puesto que no aportan significado."
   ]
  },
  {
   "cell_type": "code",
   "execution_count": 165,
   "metadata": {},
   "outputs": [],
   "source": [
    "with open('material_adicional/stopwords-es.txt', 'r') as f:\n",
    "    stopwords = list()\n",
    "    \n",
    "    for line in f.readlines():\n",
    "        stopwords.append(line.strip())\n",
    "        \n",
    "    f.close()"
   ]
  },
  {
   "cell_type": "code",
   "execution_count": 171,
   "metadata": {},
   "outputs": [
    {
     "name": "stdout",
     "output_type": "stream",
     "text": [
      "['0', '1', '2', '3', '4', '5', '6', '7', '8', '9', '_', 'a', 'actualmente', 'acuerdo', 'adelante', 'ademas', 'además', 'adrede', 'afirmó', 'agregó', 'ahi', 'ahora', 'ahí', 'al', 'algo']\n"
     ]
    }
   ],
   "source": [
    "print(stopwords[:25])"
   ]
  },
  {
   "cell_type": "markdown",
   "metadata": {},
   "source": [
    "<div>\n",
    "   <img src=\"https://i.ibb.co/5hs4Wv3/preprocessing.png\">\n",
    "</div>"
   ]
  },
  {
   "cell_type": "markdown",
   "metadata": {},
   "source": [
    "---"
   ]
  },
  {
   "cell_type": "markdown",
   "metadata": {},
   "source": [
    "El **Stemming** es una técnica para reducir una palabra a su raíz, lo cual es muy útil ya que reduciendo cada palabra a su raíz, permitirá al modelo identificar a palabras de la misma familia como palabras iguales, lo cual reduce el número total de palabras y las agrupa en base a su raíz."
   ]
  },
  {
   "cell_type": "code",
   "execution_count": 211,
   "metadata": {},
   "outputs": [],
   "source": [
    "palabras = ['conectarse', 'conectar', 'conectado']"
   ]
  },
  {
   "cell_type": "code",
   "execution_count": 212,
   "metadata": {},
   "outputs": [],
   "source": [
    "from nltk.stem import SnowballStemmer"
   ]
  },
  {
   "cell_type": "code",
   "execution_count": 213,
   "metadata": {},
   "outputs": [],
   "source": [
    "stemmer = SnowballStemmer('spanish')"
   ]
  },
  {
   "cell_type": "code",
   "execution_count": 214,
   "metadata": {},
   "outputs": [
    {
     "name": "stdout",
     "output_type": "stream",
     "text": [
      "conectarse -> conect\n",
      "conectar -> conect\n",
      "conectado -> conect\n"
     ]
    }
   ],
   "source": [
    "for palabra in palabras:\n",
    "    print(palabra + ' -> ' + stemmer.stem(palabra))"
   ]
  },
  {
   "cell_type": "markdown",
   "metadata": {},
   "source": [
    "La **Lemmatization** consiste en hallar el lema de una palabra, que es la palabra que representa todas las formas flexionadas de dicha palabra (plural, masculino, femenino, formas conjugadas, etc.)."
   ]
  },
  {
   "cell_type": "code",
   "execution_count": 208,
   "metadata": {},
   "outputs": [],
   "source": [
    "import spacy"
   ]
  },
  {
   "cell_type": "code",
   "execution_count": 215,
   "metadata": {},
   "outputs": [],
   "source": [
    "spacy_model = spacy.load('es_core_news_md')"
   ]
  },
  {
   "cell_type": "code",
   "execution_count": 216,
   "metadata": {},
   "outputs": [],
   "source": [
    "palabras = spacy_model(' '.join(palabras))"
   ]
  },
  {
   "cell_type": "code",
   "execution_count": 219,
   "metadata": {},
   "outputs": [
    {
     "name": "stdout",
     "output_type": "stream",
     "text": [
      "conectarse -> conectarse\n",
      "conectar -> conectar\n",
      "conectado -> conectar\n"
     ]
    }
   ],
   "source": [
    "for palabra in palabras:\n",
    "    print(str(palabra) + ' -> ' + palabra.lemma_)"
   ]
  },
  {
   "cell_type": "markdown",
   "metadata": {},
   "source": [
    "Adicionalmente, se podrán utilizar **Ngrams** que son agrupaciones de N palabras en base a la frecuencia en que un grupo de N palabras aparece junto. "
   ]
  },
  {
   "cell_type": "code",
   "execution_count": 150,
   "metadata": {},
   "outputs": [],
   "source": [
    "import gensim"
   ]
  },
  {
   "cell_type": "code",
   "execution_count": 159,
   "metadata": {},
   "outputs": [],
   "source": [
    "frases_ejemplo = [\n",
    "    ['real', 'madrid', 'gana', 'la', 'liga'],\n",
    "    ['ojala', 'benzema', 'triunfando' ,'real', 'madrid'],\n",
    "    ['abro', 'debate', 'real', 'madrid', 'mejor', 'equipo', 'laliga'],\n",
    "    ['partidazo', 'real', 'madrid', 'siempre', 'blancos']\n",
    "]"
   ]
  },
  {
   "cell_type": "code",
   "execution_count": 160,
   "metadata": {},
   "outputs": [],
   "source": [
    "bigram = gensim.models.phrases.Phrases(frases_ejemplo, min_count=2, threshold=2)\n",
    "bigram_model = gensim.models.phrases.Phraser(bigram)"
   ]
  },
  {
   "cell_type": "code",
   "execution_count": 161,
   "metadata": {},
   "outputs": [],
   "source": [
    "results = [bigram_model[frase_ejemplo] for frase_ejemplo in frases_ejemplo]"
   ]
  },
  {
   "cell_type": "code",
   "execution_count": 162,
   "metadata": {},
   "outputs": [
    {
     "data": {
      "text/plain": [
       "[['real_madrid', 'gana', 'la', 'liga'],\n",
       " ['ojala', 'benzema', 'triunfando', 'real_madrid'],\n",
       " ['abro', 'debate', 'real_madrid', 'mejor', 'equipo', 'laliga'],\n",
       " ['partidazo', 'real_madrid', 'siempre', 'blancos']]"
      ]
     },
     "execution_count": 162,
     "metadata": {},
     "output_type": "execute_result"
    }
   ],
   "source": [
    "results"
   ]
  },
  {
   "cell_type": "markdown",
   "metadata": {},
   "source": [
    "---\n",
    "## 3. Vectorización (*Feature Extraction*)"
   ]
  },
  {
   "cell_type": "markdown",
   "metadata": {},
   "source": [
    "El proceso de *Feature Extraction* o \"Extracción de Características\" consiste en, dado un *dataset* muy grande para ser procesado y posiblemente con características redundantes, transformarlo así en un conjunto reducido de características, también llamado *Feature Vector*."
   ]
  },
  {
   "cell_type": "markdown",
   "metadata": {},
   "source": [
    "Los datos de entrada son una colección de documentos donde cada uno de dichos documentos es una lista de palabras o *tokens* resultado de la limpieza, el pre-procesamiento y la tokenización del texto plano contenido en un *tweet* original. Esta transformación de los datos es necesaria dado que para el *Topic Modelling* tan solo interesan las palabras con significado de cara a establecer un clasificador de contenido semántico en categorías o *topics*."
   ]
  },
  {
   "cell_type": "markdown",
   "metadata": {},
   "source": [
    "A continuación se presenta una lista con frases de ejemplo que se utilizará para explicar algunas de las funcionalidades del Procesamiento del Lenguaje Natural, constiyendo un ejemplo o caso de uso simple con el fin de facilitar la comprensión de las distintas técnicas a aplicar."
   ]
  },
  {
   "cell_type": "code",
   "execution_count": 114,
   "metadata": {},
   "outputs": [],
   "source": [
    "frases = [\n",
    "    \"Hoy hace mucho frío.\", \"En Salamanca suele hacer mucho frío.\", \"¿Es normal este frío?\"\n",
    "]"
   ]
  },
  {
   "cell_type": "code",
   "execution_count": 53,
   "metadata": {},
   "outputs": [],
   "source": [
    "frases_tokens = list()"
   ]
  },
  {
   "cell_type": "code",
   "execution_count": 54,
   "metadata": {},
   "outputs": [],
   "source": [
    "for frase in frases:\n",
    "    tokens_frase = list()\n",
    "    tokens = frase.split(' ')\n",
    "    \n",
    "    for token in tokens:\n",
    "        tokens_frase.append(regex.sub('', unidecode.unidecode(token).lower()))\n",
    "        \n",
    "    frases_tokens.append(tokens_frase)"
   ]
  },
  {
   "cell_type": "code",
   "execution_count": 55,
   "metadata": {},
   "outputs": [
    {
     "data": {
      "text/plain": [
       "[['hoy', 'hace', 'mucho', 'frio'],\n",
       " ['en', 'salamanca', 'suele', 'hacer', 'mucho', 'frio'],\n",
       " ['es', 'normal', 'este', 'frio']]"
      ]
     },
     "execution_count": 55,
     "metadata": {},
     "output_type": "execute_result"
    }
   ],
   "source": [
    "frases_tokens"
   ]
  },
  {
   "cell_type": "markdown",
   "metadata": {},
   "source": [
    "Una de las representaciones más comunes del conjunto de palabras o *tokens* de un documento son las bolsas de palabras o *Bag Of Words (BoW)* que representan el total de las palabras únicas entre todos los documentos, contando el numero de ocurrencias de cada una de ellas en cada documento."
   ]
  },
  {
   "cell_type": "code",
   "execution_count": 56,
   "metadata": {},
   "outputs": [],
   "source": [
    "bolsa_de_palabras = set()"
   ]
  },
  {
   "cell_type": "code",
   "execution_count": 57,
   "metadata": {},
   "outputs": [],
   "source": [
    "for tokens in frases_tokens:\n",
    "    bolsa_de_palabras = bolsa_de_palabras.union(set(tokens))"
   ]
  },
  {
   "cell_type": "code",
   "execution_count": 58,
   "metadata": {},
   "outputs": [
    {
     "data": {
      "text/plain": [
       "{'en',\n",
       " 'es',\n",
       " 'este',\n",
       " 'frio',\n",
       " 'hace',\n",
       " 'hacer',\n",
       " 'hoy',\n",
       " 'mucho',\n",
       " 'normal',\n",
       " 'salamanca',\n",
       " 'suele'}"
      ]
     },
     "execution_count": 58,
     "metadata": {},
     "output_type": "execute_result"
    }
   ],
   "source": [
    "bolsa_de_palabras"
   ]
  },
  {
   "cell_type": "code",
   "execution_count": 77,
   "metadata": {},
   "outputs": [],
   "source": [
    "result = list()\n",
    "\n",
    "for frase in frases_tokens:\n",
    "    bow = dict.fromkeys(bolsa_de_palabras, 0)\n",
    "    \n",
    "    for token in frase:\n",
    "        bow[token] += 1\n",
    "        \n",
    "    result.append(bow)"
   ]
  },
  {
   "cell_type": "code",
   "execution_count": 64,
   "metadata": {},
   "outputs": [],
   "source": [
    "import pandas as pd"
   ]
  },
  {
   "cell_type": "code",
   "execution_count": 78,
   "metadata": {
    "scrolled": true
   },
   "outputs": [
    {
     "data": {
      "text/html": [
       "<div>\n",
       "<style scoped>\n",
       "    .dataframe tbody tr th:only-of-type {\n",
       "        vertical-align: middle;\n",
       "    }\n",
       "\n",
       "    .dataframe tbody tr th {\n",
       "        vertical-align: top;\n",
       "    }\n",
       "\n",
       "    .dataframe thead th {\n",
       "        text-align: right;\n",
       "    }\n",
       "</style>\n",
       "<table border=\"1\" class=\"dataframe\">\n",
       "  <thead>\n",
       "    <tr style=\"text-align: right;\">\n",
       "      <th></th>\n",
       "      <th>hace</th>\n",
       "      <th>salamanca</th>\n",
       "      <th>hacer</th>\n",
       "      <th>mucho</th>\n",
       "      <th>normal</th>\n",
       "      <th>es</th>\n",
       "      <th>hoy</th>\n",
       "      <th>en</th>\n",
       "      <th>suele</th>\n",
       "      <th>frio</th>\n",
       "      <th>este</th>\n",
       "    </tr>\n",
       "  </thead>\n",
       "  <tbody>\n",
       "    <tr>\n",
       "      <td>0</td>\n",
       "      <td>1</td>\n",
       "      <td>0</td>\n",
       "      <td>0</td>\n",
       "      <td>1</td>\n",
       "      <td>0</td>\n",
       "      <td>0</td>\n",
       "      <td>1</td>\n",
       "      <td>0</td>\n",
       "      <td>0</td>\n",
       "      <td>1</td>\n",
       "      <td>0</td>\n",
       "    </tr>\n",
       "    <tr>\n",
       "      <td>1</td>\n",
       "      <td>0</td>\n",
       "      <td>1</td>\n",
       "      <td>1</td>\n",
       "      <td>1</td>\n",
       "      <td>0</td>\n",
       "      <td>0</td>\n",
       "      <td>0</td>\n",
       "      <td>1</td>\n",
       "      <td>1</td>\n",
       "      <td>1</td>\n",
       "      <td>0</td>\n",
       "    </tr>\n",
       "    <tr>\n",
       "      <td>2</td>\n",
       "      <td>0</td>\n",
       "      <td>0</td>\n",
       "      <td>0</td>\n",
       "      <td>0</td>\n",
       "      <td>1</td>\n",
       "      <td>1</td>\n",
       "      <td>0</td>\n",
       "      <td>0</td>\n",
       "      <td>0</td>\n",
       "      <td>1</td>\n",
       "      <td>1</td>\n",
       "    </tr>\n",
       "  </tbody>\n",
       "</table>\n",
       "</div>"
      ],
      "text/plain": [
       "   hace  salamanca  hacer  mucho  normal  es  hoy  en  suele  frio  este\n",
       "0     1          0      0      1       0   0    1   0      0     1     0\n",
       "1     0          1      1      1       0   0    0   1      1     1     0\n",
       "2     0          0      0      0       1   1    0   0      0     1     1"
      ]
     },
     "execution_count": 78,
     "metadata": {},
     "output_type": "execute_result"
    }
   ],
   "source": [
    "pd.DataFrame(result)"
   ]
  },
  {
   "cell_type": "markdown",
   "metadata": {},
   "source": [
    "Ahora, se procederá a la implementación del modelo de **TF-IDF** (*Term Frequency - Inverse Document Frequency*), a través del cual se obtendrán las palabras clave o *keywords* con una mayor frecuencia de aparición a lo largo del documento. Por tanto, este modelo transforma los documentos de entrada en una matriz que contendrá los valores calculados por TF-IDF para cada una de las palabras que aparecen a lo largo de los documentos."
   ]
  },
  {
   "cell_type": "code",
   "execution_count": 80,
   "metadata": {},
   "outputs": [],
   "source": [
    "from sklearn.feature_extraction.text import TfidfVectorizer"
   ]
  },
  {
   "cell_type": "code",
   "execution_count": 84,
   "metadata": {},
   "outputs": [],
   "source": [
    "tfidf = TfidfVectorizer()"
   ]
  },
  {
   "cell_type": "code",
   "execution_count": 90,
   "metadata": {},
   "outputs": [],
   "source": [
    "X = tfidf.fit_transform([' '.join(tokens) for tokens in frases_tokens])"
   ]
  },
  {
   "cell_type": "code",
   "execution_count": 91,
   "metadata": {},
   "outputs": [],
   "source": [
    "import numpy as np"
   ]
  },
  {
   "cell_type": "code",
   "execution_count": 99,
   "metadata": {},
   "outputs": [],
   "source": [
    "feature_array = np.array(tfidf.get_feature_names())\n",
    "tf_idf_sorted = np.argsort(X.toarray()).flatten()[::-1]\n",
    "top_terms = feature_array[tf_idf_sorted][:5]"
   ]
  },
  {
   "cell_type": "code",
   "execution_count": 100,
   "metadata": {},
   "outputs": [
    {
     "data": {
      "text/plain": [
       "array(['normal', 'este', 'es', 'frio', 'suele'], dtype='<U9')"
      ]
     },
     "execution_count": 100,
     "metadata": {},
     "output_type": "execute_result"
    }
   ],
   "source": [
    "top_terms"
   ]
  },
  {
   "cell_type": "markdown",
   "metadata": {},
   "source": [
    "Otro posible modelo también muy utilizado es el *CountVectorizer* que, como su propio nombre indica, se basa en la transformación de los documentos en una representación numérica que refleja el numero de ocurrencias de cada palabra de los documentos."
   ]
  },
  {
   "cell_type": "code",
   "execution_count": 102,
   "metadata": {},
   "outputs": [],
   "source": [
    "from sklearn.feature_extraction.text import CountVectorizer"
   ]
  },
  {
   "cell_type": "code",
   "execution_count": 103,
   "metadata": {},
   "outputs": [],
   "source": [
    "count = CountVectorizer(max_features=1000)"
   ]
  },
  {
   "cell_type": "code",
   "execution_count": 104,
   "metadata": {},
   "outputs": [],
   "source": [
    "docs = [' '.join(tokens) for tokens in frases_tokens]"
   ]
  },
  {
   "cell_type": "code",
   "execution_count": 109,
   "metadata": {},
   "outputs": [],
   "source": [
    "vectorizer = count.fit(docs)\n",
    "bow = count.transform(docs)"
   ]
  },
  {
   "cell_type": "code",
   "execution_count": 112,
   "metadata": {},
   "outputs": [],
   "source": [
    "bow_sum = bow.sum(axis=0)\n",
    "\n",
    "res = [(word, bow_sum[0, index]) for word, index in vectorizer.vocabulary_.items()]\n",
    "res = sorted(res, key=lambda x: x[1], reverse=True)"
   ]
  },
  {
   "cell_type": "code",
   "execution_count": 113,
   "metadata": {},
   "outputs": [
    {
     "data": {
      "text/plain": [
       "[('frio', 3),\n",
       " ('mucho', 2),\n",
       " ('hoy', 1),\n",
       " ('hace', 1),\n",
       " ('en', 1),\n",
       " ('salamanca', 1),\n",
       " ('suele', 1),\n",
       " ('hacer', 1),\n",
       " ('es', 1),\n",
       " ('normal', 1),\n",
       " ('este', 1)]"
      ]
     },
     "execution_count": 113,
     "metadata": {},
     "output_type": "execute_result"
    }
   ],
   "source": [
    "res"
   ]
  },
  {
   "cell_type": "markdown",
   "metadata": {},
   "source": [
    "---\n",
    "## 4. Caso de Uso - Twitter"
   ]
  },
  {
   "cell_type": "markdown",
   "metadata": {},
   "source": [
    "Twitter es una de las redes sociales más utilizadas hoy en día para compartir información, lo cual tiene tanto ventajas como consecuencias negativas. En este caso, de cara a aplicar técnicas de NLP a datos extraidos de Twitter, será necesario asegurar la calidad de dicha información mediante las distintas técnicas de preprocesamiento."
   ]
  },
  {
   "cell_type": "markdown",
   "metadata": {},
   "source": [
    "En la inmensa mayoría de los casos, las publicaciones de Twitter se encuentran mal escritas o con fallos ortográficos, lo cual es un serio problema de cara al análisis del texto de los mismos puesto que dos palabras con el mismo significado dónde una de ellas está mal escrita, inducirá a error."
   ]
  },
  {
   "cell_type": "markdown",
   "metadata": {},
   "source": [
    "<div>\n",
    "    <img src=\"https://i.ibb.co/M741nTH/sample-tweet.png\">\n",
    "</div>"
   ]
  },
  {
   "cell_type": "markdown",
   "metadata": {},
   "source": [
    "Algunos casos de mal uso de las redes sociales de cara a proporcionar información útil son las *Fake News*, que dan lugar a malentendidos en el mejor de los casos. Por ejemplo, en 2013 Rafael Nadal (conocido tenista) publicó un tweet dando el pésame por Nelson Mandela, cuando él aún estaba vivo. Y, al ser Nadal una persona de alto impacto social, dio lugar a que múltiples usuarios publicasen tweets relacionados lo cual podría desvirtuar análisis de Twitter."
   ]
  },
  {
   "cell_type": "markdown",
   "metadata": {},
   "source": [
    "<div>\n",
    "    <img src=\"https://www.iebschool.com/blog/wp-content/uploads/2016/06/rafa-nadal-nelson-mandela-default.jpg\">\n",
    "</div>"
   ]
  },
  {
   "cell_type": "markdown",
   "metadata": {},
   "source": [
    "También mencionar cuando el futbolista Sergio Ramos dio la enhorabuena a la selección española de waterpolo más de un mes después de que estas ganaran un partido, pensando que era en directo cuando en verdad lo estaba viendo en diferido sin darse cuenta."
   ]
  },
  {
   "cell_type": "markdown",
   "metadata": {},
   "source": [
    "<div>\n",
    "    <img src=\"https://comunidad.iebschool.com/iebs/files/2016/06/Sergio-Ramos-Twitter_.jpg\">\n",
    "</div>"
   ]
  },
  {
   "cell_type": "markdown",
   "metadata": {},
   "source": [
    "---\n",
    "### 4.1. Ingesta de Datos"
   ]
  },
  {
   "cell_type": "markdown",
   "metadata": {},
   "source": [
    "De este modo, de cara a obtener datos de Twitter, se hará uso de la API (Application Programming Interface) que proporciona Twitter. Una API es un servicio web que permite que productos y servicios se comuniquen con otros, por tanto, en este caso nos proporcionará acceso a datos públicos de Twitter que podremos estudiar para la extracción de conclusiones."
   ]
  },
  {
   "cell_type": "markdown",
   "metadata": {},
   "source": [
    "Mencionar que el uso de la API de Twitter está limitado a la investigación, pues el uso de datos de usuarios de Twitter sin su consentimiento previo está constituido como delito. Más adelante se presentarán distintas aplicaciones llevadas a cabo en lo referente al ámbito del NLP."
   ]
  },
  {
   "cell_type": "markdown",
   "metadata": {},
   "source": [
    "---\n",
    "Para utilizar la API de Twitter desde Python de una manera simple y eficiente, he creado un paquete de Python para interactuar con la API de forma transparente al usuario, es decir, encapsulando las llamadas a los distintos *endpoints* de la API en funciones de Python."
   ]
  },
  {
   "cell_type": "code",
   "execution_count": 140,
   "metadata": {},
   "outputs": [],
   "source": [
    "import twipper"
   ]
  },
  {
   "cell_type": "code",
   "execution_count": 141,
   "metadata": {
    "scrolled": false
   },
   "outputs": [
    {
     "data": {
      "text/plain": [
       "('Alvaro Bartolome @ alvarob96 on GitHub', '0.1.5')"
      ]
     },
     "execution_count": 141,
     "metadata": {},
     "output_type": "execute_result"
    }
   ],
   "source": [
    "(twipper.__author__, twipper.__version__)"
   ]
  },
  {
   "cell_type": "markdown",
   "metadata": {},
   "source": [
    "Como ejemplo, se presentará el proceso de ingesta de un número N de tweets publicados en español que contengan las palabras \"gato\" o \"perro\" suponiendo que somos una empresa que quiere lanzar una campaña de comida para gatos o para perros, ya que a todo el mundo le gustan los gatos y/o los perros."
   ]
  },
  {
   "cell_type": "markdown",
   "metadata": {},
   "source": [
    "<div>\n",
    "    <img src=\"https://th62ldf3n1-flywheel.netdna-ssl.com/wp-content/uploads/Top-Photo-e1538713024951-1024x286.jpg\">\n",
    "</div>"
   ]
  },
  {
   "cell_type": "code",
   "execution_count": 142,
   "metadata": {},
   "outputs": [],
   "source": [
    "credenciales = twipper.Twipper(consumer_key='FzCJziDu6vw44pMxea3wDjJqe',\n",
    "                               consumer_secret='lGBKu8cqSsfCVquwmiuLXtM0mtNAxTMsxBoQWNj1DMDZjvxaFy',\n",
    "                               access_token='894988499526590464-MBt6EI0fgjxULaX2MQ0sJBcMeo0cE49',\n",
    "                               access_token_secret='Ypf15r0gFykooYClK26bzQwt6YYpDj1w1IPSrKA82ouNh')"
   ]
  },
  {
   "cell_type": "code",
   "execution_count": 143,
   "metadata": {},
   "outputs": [],
   "source": [
    "from twipper.batch import search_tweets"
   ]
  },
  {
   "cell_type": "code",
   "execution_count": 226,
   "metadata": {},
   "outputs": [],
   "source": [
    "tweets = search_tweets(access=credenciales,\n",
    "                       query='gatos OR perros',\n",
    "                       page_count=1,\n",
    "                       filter_retweets=True,\n",
    "                       verified_account=False,\n",
    "                       language='es',\n",
    "                       result_type='popular',\n",
    "                       count=10)"
   ]
  },
  {
   "cell_type": "code",
   "execution_count": 228,
   "metadata": {},
   "outputs": [
    {
     "name": "stdout",
     "output_type": "stream",
     "text": [
      "Un golden retriever fue mutilado por el Sebin y las Faes, lo mataron, y luego le mostraron el video a su dueño, un preso político https://t.co/1zcKf2WLCd\n",
      "------\n",
      "Este combo no es para todos. Les dejo el combo \"Documentales que quisiéramos que fueran ficción\":\n",
      "\n",
      "· No te metas con los gatos\n",
      "· Wild Wild Country\n",
      "· Bikram: Yogui, gurú, depredador\n",
      "· Dime quién soy\n",
      "· Nada es privado\n",
      "· El diablo de al lado\n",
      "· The Keepers\n",
      "------\n",
      "Dictadura de Maduro recurre a la crueldad animal y asesinato de perros para presionar a presos políticos en Venezuela https://t.co/1zcKf2WLCd\n",
      "------\n",
      "ÚLTIMA HORA | Dictadura de Maduro recurre a la crueldad animal y asesinato de perros para presionar a preso político en Venezuela https://t.co/1zcKf2WLCd\n",
      "------\n",
      "Los gatos son (casi) líquidos 😹 https://t.co/MIcvgSc33R\n",
      "------\n",
      "🚩Detenidas 11 personas por  pertenencia a organización criminal relacionada con el tráfico de #heroína. Preparaban vehículos con caletas altamente sofisticadas e indetectables en #Madrid. El trabajo de los perros detectores de #droga fue fundamental para hallar el estupefaciente https://t.co/beLa1OzYqe\n",
      "------\n",
      "La loca de los gatos y la loca que da de comer a las palomas se reúnen para acordar un único plan estratégico https://t.co/fCqeQeotJk https://t.co/Ij70Q9GoYP\n",
      "------\n",
      "#MuyGrandes\n",
      "Bomberos y guardias civiles de #Huelva rescatan de un pozo a 6 perros que desaparecieron durante una cacería\n",
      "https://t.co/sqcqivgGkX https://t.co/3Uqlfgkl02\n",
      "------\n",
      "¡Gran ejemplo! Adulta mayor de más de 90 años de edad y su hijo con más de 70, se han ganado la admiración de todos por ser los protectores y guardianes de 18 perros que se encontraban en las calles de Santiago de Veraguas. #TReporta https://t.co/lFWT8RDuvz\n",
      "------\n",
      "«Todos los hombres son dioses para su perro. Por eso hay gente que ama más a sus perros que a los hombres». Aldous Huxley\n",
      "------\n"
     ]
    }
   ],
   "source": [
    "for tweet in tweets:\n",
    "    print(tweet['full_text'])\n",
    "    print('------')"
   ]
  },
  {
   "cell_type": "markdown",
   "metadata": {},
   "source": [
    "La documentación de [twipper](https://github.com/alvarob96/twipper) para Python se puede encontrar en: https://twipper.readthedocs.io/"
   ]
  },
  {
   "cell_type": "markdown",
   "metadata": {},
   "source": [
    "---\n",
    "### 4.2. Representación de Datos"
   ]
  },
  {
   "cell_type": "markdown",
   "metadata": {},
   "source": [
    "En el ámbito del análisis de datos es importante representarlos en caso de que sea posible, ya que la representación de los datos proporciona una visión sobre los mismos permitiendo la extracción de conclusiones."
   ]
  },
  {
   "cell_type": "markdown",
   "metadata": {},
   "source": [
    "En el caso del texto y, más concretamente, en el caso del NLP una representación muy conocida son los *wordclouds* o nubes de palabras que, dado un conjunto de documentos de entrada N, muestran el conjunto de las palabras donde su tamaño es mayor cuanto más representativa sea la palabra, es decir, las palabras que aparezcan con una mayor frecuencia serán las que se representen con un mayor tamaño."
   ]
  },
  {
   "cell_type": "code",
   "execution_count": 229,
   "metadata": {
    "scrolled": true
   },
   "outputs": [],
   "source": [
    "from wordcloud import WordCloud"
   ]
  },
  {
   "cell_type": "code",
   "execution_count": 230,
   "metadata": {},
   "outputs": [],
   "source": [
    "tweets_aux = [\n",
    "    'gatos animales compañia', 'gatos animal mas bonito mundo', 'gatos vs perros pelicula mala'\n",
    "]"
   ]
  },
  {
   "cell_type": "code",
   "execution_count": 231,
   "metadata": {},
   "outputs": [],
   "source": [
    "nube_palabras = WordCloud().generate(' '.join(tweets_aux))"
   ]
  },
  {
   "cell_type": "code",
   "execution_count": 232,
   "metadata": {},
   "outputs": [],
   "source": [
    "import matplotlib.pyplot as plt"
   ]
  },
  {
   "cell_type": "code",
   "execution_count": 233,
   "metadata": {},
   "outputs": [
    {
     "data": {
      "image/png": "[encoded data removed]",
      "text/plain": [
       "<Figure size 432x288 with 1 Axes>"
      ]
     },
     "metadata": {
      "needs_background": "light"
     },
     "output_type": "display_data"
    }
   ],
   "source": [
    "plt.imshow(nube_palabras, interpolation='bilinear');\n",
    "plt.axis(\"off\");"
   ]
  },
  {
   "cell_type": "markdown",
   "metadata": {},
   "source": [
    "Siendo las nubes de palabras la representación más común de los datos de texto, también se podrán mostrar gráficas sobre los usuarios que publican los tweets en un gráfico de barras, mapas de calor sobre un mapa mundial mostrando las zonas donde más tweets se publican a partir de la ubicación (latitud,longitud), etc. El resto de representaciones posibles se realizarán normalmente con los datos agregados, es decir, tras analizarlos o etiquetarlos."
   ]
  },
  {
   "cell_type": "markdown",
   "metadata": {},
   "source": [
    "---\n",
    "### 4.3. Aplicaciones"
   ]
  },
  {
   "cell_type": "markdown",
   "metadata": {},
   "source": [
    "#### 4.3.1. Validar que las respuestas de una encuesta son válidas"
   ]
  },
  {
   "cell_type": "markdown",
   "metadata": {},
   "source": [
    "Una de las posibles aplicaciones (aplicada en un proyecto nacional con una empresa de encuestas) es la validación de las respuestas en las encuestas en línea por parte de los usuarios, para verificar la integridad de las mismas, puesto que una parte de las encuestas está falseada por usuarios que no responden las mismas correctamente o acorde a su verdadera opinión. Este proyecto buscaba validar dichas respuestas con la información que se podía extraer del Twitter de cada uno de los usuarios encuestados. "
   ]
  },
  {
   "cell_type": "markdown",
   "metadata": {},
   "source": [
    "Es decir, si en una encuesta de Fútbol un fan de Messi (si así lo muestra en redes) responde negativamente a preguntas referentes sobre Messi se haría una validación cruzada entre los tweets del usuario con las respuestas de la encuesta dando lugar a una encuesta no fiable puesto que el sentimiento del usuario para/con Messi no coincide entre las respuestas de la encuesta y los tweets del usuario."
   ]
  },
  {
   "cell_type": "markdown",
   "metadata": {},
   "source": [
    "<div>\n",
    "    <img src=\"https://i.ibb.co/7nsdxzv/trust.jpg\">\n",
    "</div>"
   ]
  },
  {
   "cell_type": "markdown",
   "metadata": {},
   "source": [
    "#### 4.3.2. Lanzar una campaña de Twitter a usuarios que puedan estar interesados"
   ]
  },
  {
   "cell_type": "markdown",
   "metadata": {},
   "source": [
    "Otra de las posibles aplicaciones es la selección o sesgo de un grupo de usuarios en base a sus tweets con el fin de determinar qué usuarios pueden estar interesados en una campaña de una categoría determinada. Es decir, supongamos que somos una empresa de Automoción que quiere lanzar una campaña en Twitter, de un conjunto de usuarios se analizaran los tweets y se pasarán como entrada a un modelo de clasificación que los clasificará, valga la redundancia, en una serie de categorías con las que el modelo ha sido entrenado."
   ]
  },
  {
   "cell_type": "markdown",
   "metadata": {},
   "source": [
    "Como se ha mencionado, se hará uso de un algoritmo de clasificación que será entrenado con un conjunto de tweets K en N categorías, donde se disponen de K/N tweets por categoría. De este modo, el algoritmo mencionado será capaz de clasificar uno o más tweets de entrada en cada una de las categorías."
   ]
  },
  {
   "cell_type": "code",
   "execution_count": 113,
   "metadata": {},
   "outputs": [
    {
     "name": "stdout",
     "output_type": "stream",
     "text": [
      "Tweet: La ovación a Kawhi Leonard en su regreso a Toronto.\n",
      "#dormiresdecobardes\n",
      "https://t.co/yTRtqhefMX\n",
      "Topic: Noticias\n",
      "-------------------------------------------\n",
      "Tweet: Luka Doncic: \"No puedes comparar a nadie con Michael Jordan. Él es único. Son sólo estadísticas\". \n",
      "#GeneraciónNBA, hoy a las 22:00h en @vamos. https://t.co/IISRqlHrPg\n",
      "Topic: Deportes\n",
      "-------------------------------------------\n",
      "Tweet: HABÍA UNA VEZ UN CIRCO....\n",
      "\n",
      "¡El despiporre! Qué partido de Kemba Walker. #dormiresdecobardes https://t.co/74bsNPWKIF\n",
      "Topic: Deportes\n",
      "-------------------------------------------\n",
      "Tweet: Central de rumores. \n",
      "@ICano14 nos trae los rumores más sonados de posibles traspasos. #GeneraciónNBA https://t.co/bie01J4XGo\n",
      "Topic: Noticias\n",
      "-------------------------------------------\n",
      "Tweet: Los Pacers son un hueso duro de roer.\n",
      "Victoria sobre los Celtics en un gran partido. \n",
      "#dormiresdecobardes https://t.co/5QHhWd0MaE\n",
      "Topic: Deportes\n",
      "-------------------------------------------\n",
      "Tweet: Falló Kemba, aunque pudo haber falta en el tiro. #dormiresdecobardes https://t.co/dJCUUwN2CU\n",
      "Topic: Deportes\n",
      "-------------------------------------------\n",
      "Tweet: Harden está en 51 puntos con solo tres tiros libres.\n",
      "#dormiresdecobardes\n",
      "https://t.co/WDZeWNmMy8\n",
      "Topic: Deportes\n",
      "-------------------------------------------\n",
      "Tweet: @fabioguetta6 @vamos Un día más en la oficina https://t.co/hmvZY94k0C\n",
      "Topic: Compras\n",
      "-------------------------------------------\n",
      "Tweet: @lentejita10 @guillegimenez_ @RamonFdezEs Los seguidores de esta cuenta siempre habéis sido tendencia 🥰🥰\n",
      "Topic: Moda y Estilo\n",
      "-------------------------------------------\n",
      "Tweet: @KikeBV5 @guillegimenez_ @RamonFdezEs A dónde vas sin pantallas!\n",
      "Topic: Arte y Entretenimiento\n",
      "-------------------------------------------\n"
     ]
    }
   ],
   "source": [
    "for prediction, tweet in zip(unseen_predict, unseen['text'].tolist()):\n",
    "    print(\"Tweet: \" + tweet)\n",
    "    print(\"Topic: \" + topics[prediction])\n",
    "    print(\"-------------------------------------------\")"
   ]
  },
  {
   "cell_type": "markdown",
   "metadata": {},
   "source": [
    "#### 4.3.3. Clasificar un tweet en N categorías distintas"
   ]
  },
  {
   "cell_type": "markdown",
   "metadata": {},
   "source": [
    "Supone un acercamiento más profundo a la aplicación mencionada previamente, que, en vez de utilizar un modelo de clasificación, utilizará un sistema de *Topic Modelling* que es una técnica de aprendizaje supervisado que de forma automática busca inferir un conjunto N de clusters dada una coleccion de documentos de entrada K. La agrupación de los documentos en clusters se basa en la similitud de sus características."
   ]
  },
  {
   "cell_type": "markdown",
   "metadata": {},
   "source": [
    "Existen diversos algoritmos de *Topic Modelling* entre los que destacamos: *Latent Semantic Analysis (LSA/LSI)*, *Probabilistic Latent Semantic Analysis (pLSA)* y *Latent Dirichlet Allocation (LDA)*. A continuación, se aplicará el algoritmo LDA, que es un modelo generativo probabilístico que asume que cada *topic* es una combinación sobre un conjunto de palabras subyacente y cada documento es la combinación de un conjunto de probabilidades."
   ]
  },
  {
   "cell_type": "markdown",
   "metadata": {},
   "source": [
    "Mencionar que se hace uso del paquete de Python [pyLDAvis](https://github.com/bmabey/pyLDAvis) que es una implementación en Python del paquete de R [LDAvis](https://github.com/cpsievert/LDAvis) de [Carson Sievert](https://cpsievert.me) y [Kenny Shirley](http://www.kennyshirley.com/) realizada por [Ben Mabey](https://github.com/bmabey).\n",
    "\n",
    "Este tipo de visualización muestra la organización de los *topics* y su distribución y proximidad en base a las palabras que lo forman, de modo que en función del *topic* unas palabras tendrán más peso o relevancia que otras, determinando así a que *topic* pertenece cada uno de los documentos tal y como se ha desglosado y explicado previamente."
   ]
  },
  {
   "cell_type": "markdown",
   "metadata": {},
   "source": [
    "<div>\n",
    "    <img src=\"https://i.ibb.co/FmbxGMh/ldavis-topic1.png\">\n",
    "</div>"
   ]
  },
  {
   "cell_type": "markdown",
   "metadata": {},
   "source": [
    "<div>\n",
    "    <img src=\"https://i.ibb.co/vxy3VMp/ldavis-topic2.png\">\n",
    "</div>"
   ]
  },
  {
   "cell_type": "markdown",
   "metadata": {},
   "source": [
    "#### 4.3.4. Modelo de Análisis de Sentimientos"
   ]
  },
  {
   "cell_type": "markdown",
   "metadata": {},
   "source": [
    "Mencionar también los modelos de análisis de sentimientos que determinan el sentimiento (positivo, negativo o neutral) de un tweet, lo cual es útil a la hora de estudiar el comportamiento de los usuarios para/con un tema en concreto. En este caso, tras estudiar los distintos modelos ya existentes para análisis de sentimientos se ha determinado la creación de un modelo propio de forma supervisada. Esto implica que se clasificarán tweets en sentimientos de forma manual y supervisada, de cara a pasar como entrada dichos tweets a un modelo de clasificación en categorías: positivo, negativo y neutral."
   ]
  },
  {
   "cell_type": "code",
   "execution_count": 44,
   "metadata": {
    "scrolled": false
   },
   "outputs": [
    {
     "data": {
      "text/plain": [
       "<matplotlib.axes._subplots.AxesSubplot at 0x21b70ad9a90>"
      ]
     },
     "execution_count": 44,
     "metadata": {},
     "output_type": "execute_result"
    },
    {
     "data": {
      "image/png": "[encoded data removed]",
      "text/plain": [
       "<Figure size 921.6x432 with 1 Axes>"
      ]
     },
     "metadata": {},
     "output_type": "display_data"
    }
   ],
   "source": [
    "plt.figure(figsize=(12.8,6))\n",
    "\n",
    "aux = df.groupby('sentiment').count()\n",
    "\n",
    "sns.barplot(data=aux, x=aux.index, y='tweet')"
   ]
  },
  {
   "cell_type": "code",
   "execution_count": 45,
   "metadata": {},
   "outputs": [
    {
     "data": {
      "text/plain": [
       "<matplotlib.axes._subplots.AxesSubplot at 0x21b70b4c278>"
      ]
     },
     "execution_count": 45,
     "metadata": {},
     "output_type": "execute_result"
    },
    {
     "data": {
      "image/png": "[encoded data removed]",
      "text/plain": [
       "<Figure size 921.6x432 with 1 Axes>"
      ]
     },
     "metadata": {},
     "output_type": "display_data"
    }
   ],
   "source": [
    "plt.figure(figsize=(12.8,6))\n",
    "\n",
    "sns.boxplot(data=df, x='tweet_length', y='sentiment')"
   ]
  },
  {
   "cell_type": "markdown",
   "metadata": {},
   "source": [
    "---\n",
    "## 5. Conclusiones"
   ]
  },
  {
   "cell_type": "markdown",
   "metadata": {},
   "source": [
    "Tras haber mostrado el funcionamiento básico del Procesamiento del Lenguaje Natural (NLP) junto con la explicación de algunas de las infinitas posibilidades que ofrece, se concluye este estudio con la gran relevancia que adquiere el análsis de texto y, más en concreto, el proveniente de las redes sociales de cara a posicionar una empresa, analizar el sector, lanzar campañas personalizadas, etc."
   ]
  },
  {
   "cell_type": "markdown",
   "metadata": {},
   "source": [
    "El uso y la inclusión de técnicas de NLP en el ámbito del negocio supone una ventaja competitiva, puesto que el análisis que se puede obtener mediante el aprendizaje máquina (*Machine Learning*) tanto supervisado como no supervisado."
   ]
  },
  {
   "cell_type": "markdown",
   "metadata": {},
   "source": [
    "---\n",
    "## 6. Referencias"
   ]
  },
  {
   "cell_type": "markdown",
   "metadata": {},
   "source": [
    "1. Uysal, A. K., & Gunal, S. (2014). The impact of preprocessing on text classification. Information Processing & Management, 50(1), 104-112."
   ]
  },
  {
   "cell_type": "markdown",
   "metadata": {},
   "source": [
    "---\n",
    "## 7. Datos de Contacto"
   ]
  },
  {
   "cell_type": "markdown",
   "metadata": {},
   "source": [
    "Correo Electrónico: **alvarob96@usal.es**"
   ]
  },
  {
   "cell_type": "markdown",
   "metadata": {},
   "source": [
    "Github: **@alvarob96**"
   ]
  },
  {
   "cell_type": "markdown",
   "metadata": {},
   "source": [
    "## ¡Muchas gracias por asistir!"
   ]
  }
 ],
 "metadata": {
  "kernelspec": {
   "display_name": "Python 3",
   "language": "python",
   "name": "python3"
  },
  "language_info": {
   "codemirror_mode": {
    "name": "ipython",
    "version": 3
   },
   "file_extension": ".py",
   "mimetype": "text/x-python",
   "name": "python",
   "nbconvert_exporter": "python",
   "pygments_lexer": "ipython3",
   "version": "3.7.5"
  }
 },
 "nbformat": 4,
 "nbformat_minor": 2
}
